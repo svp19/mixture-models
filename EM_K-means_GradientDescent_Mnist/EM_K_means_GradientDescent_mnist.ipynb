{
  "nbformat": 4,
  "nbformat_minor": 0,
  "metadata": {
    "colab": {
      "name": "EM_K-means_GradientDescent_mnist.ipynb",
      "provenance": [],
      "collapsed_sections": []
    },
    "kernelspec": {
      "name": "python3",
      "display_name": "Python 3"
    },
    "accelerator": "GPU"
  },
  "cells": [
    {
      "cell_type": "code",
      "metadata": {
        "id": "oPyc1ZvsI78N"
      },
      "source": [
        "import matplotlib.pyplot as plt\n",
        "import numpy\n",
        "import tensorflow as tf\n",
        "import tensorflow_datasets as tfds"
      ],
      "execution_count": 29,
      "outputs": []
    },
    {
      "cell_type": "code",
      "metadata": {
        "colab": {
          "base_uri": "https://localhost:8080/"
        },
        "id": "J1ZlUIEPJi04",
        "outputId": "9fa2cdc5-7d65-460b-fd46-e6ff9168962f"
      },
      "source": [
        "ds = tfds.load('mnist', split='train', shuffle_files=False)\n",
        "assert isinstance(ds, tf.data.Dataset)\n",
        "print(ds)"
      ],
      "execution_count": 30,
      "outputs": [
        {
          "output_type": "stream",
          "text": [
            "<PrefetchDataset shapes: {image: (28, 28, 1), label: ()}, types: {image: tf.uint8, label: tf.int64}>\n"
          ],
          "name": "stdout"
        }
      ]
    },
    {
      "cell_type": "code",
      "metadata": {
        "id": "feSCKEwmJkzR"
      },
      "source": [
        "train_images = []\n",
        "train_labels = []\n",
        "for example in ds:\n",
        "  train_images.append(example[\"image\"])\n",
        "  train_labels.append(example[\"label\"])"
      ],
      "execution_count": 31,
      "outputs": []
    },
    {
      "cell_type": "code",
      "metadata": {
        "id": "10h3lZj3JnZK"
      },
      "source": [
        "X = numpy.array(train_images)\n",
        "y = numpy.array(train_labels)"
      ],
      "execution_count": 32,
      "outputs": []
    },
    {
      "cell_type": "markdown",
      "metadata": {
        "id": "1Y0lNFqMLSom"
      },
      "source": [
        "Examples for classes"
      ]
    },
    {
      "cell_type": "code",
      "metadata": {
        "colab": {
          "base_uri": "https://localhost:8080/"
        },
        "id": "ZFjpJeikK7mf",
        "outputId": "6ca60f35-a992-4855-ee02-260946a3c0e2"
      },
      "source": [
        "from collections import Counter\n",
        "count = Counter(y)\n",
        "count"
      ],
      "execution_count": 33,
      "outputs": [
        {
          "output_type": "execute_result",
          "data": {
            "text/plain": [
              "Counter({0: 5923,\n",
              "         1: 6742,\n",
              "         2: 5958,\n",
              "         3: 6131,\n",
              "         4: 5842,\n",
              "         5: 5421,\n",
              "         6: 5918,\n",
              "         7: 6265,\n",
              "         8: 5851,\n",
              "         9: 5949})"
            ]
          },
          "metadata": {
            "tags": []
          },
          "execution_count": 33
        }
      ]
    },
    {
      "cell_type": "markdown",
      "metadata": {
        "id": "IGFuoD6pK2QS"
      },
      "source": [
        "Extract examples of class 2, 3 and 4"
      ]
    },
    {
      "cell_type": "code",
      "metadata": {
        "id": "OrN71eZnJzBP"
      },
      "source": [
        "examples = []\n",
        "count = numpy.zeros((3,))\n",
        "for i in range(len(X)):\n",
        "    if y[i] == 2 and count[0] <=200:\n",
        "      examples.append(X[i])\n",
        "      count[0]+=1\n",
        "    elif y[i] == 3 and count[1] <= 200:\n",
        "      examples.append(X[i])\n",
        "      count[1]+=1\n",
        "    elif y[i] == 4 and count[2] <= 200:\n",
        "      examples.append(X[i])\n",
        "      count[2]+=1\n",
        "    if numpy.sum(count) == 600:\n",
        "      break"
      ],
      "execution_count": 34,
      "outputs": []
    },
    {
      "cell_type": "markdown",
      "metadata": {
        "id": "MNn5ba8_MKuX"
      },
      "source": [
        "Normalizing the values and assigning bernoulli random variable"
      ]
    },
    {
      "cell_type": "code",
      "metadata": {
        "id": "cWucXeEPMA3E"
      },
      "source": [
        "examples_array = numpy.array(examples)/255\n",
        "examples_array = examples_array.reshape(examples_array.shape[0], 784)\n",
        "# examples_array[0]"
      ],
      "execution_count": 36,
      "outputs": []
    },
    {
      "cell_type": "code",
      "metadata": {
        "id": "c3UYufCkMf29"
      },
      "source": [
        "X = numpy.where(examples_array > 0.5, 1, 0)\n",
        "# X[0]"
      ],
      "execution_count": 37,
      "outputs": []
    },
    {
      "cell_type": "markdown",
      "metadata": {
        "id": "yfkTCL-MN8U6"
      },
      "source": [
        "Assigning intial values to parameters for estimating class conditional densities\n"
      ]
    },
    {
      "cell_type": "code",
      "metadata": {
        "id": "0tcLhcIuNKit"
      },
      "source": [
        "PI = numpy.array([1/3, 1/3, 1/3])\n",
        "# PI"
      ],
      "execution_count": 38,
      "outputs": []
    },
    {
      "cell_type": "markdown",
      "metadata": {
        "id": "kLbse9k2_56S"
      },
      "source": [
        "Assigning random values to means"
      ]
    },
    {
      "cell_type": "code",
      "metadata": {
        "id": "6qNrulkSPek1"
      },
      "source": [
        "random_MU = 0.5*numpy.random.random((3,784)) + 0.25\n",
        "# random_MU"
      ],
      "execution_count": 39,
      "outputs": []
    },
    {
      "cell_type": "markdown",
      "metadata": {
        "id": "Wwpdn3-FAA6L"
      },
      "source": [
        "Normalizing Mean"
      ]
    },
    {
      "cell_type": "code",
      "metadata": {
        "id": "JFbHL5oaPkgP"
      },
      "source": [
        "MU = random_MU/numpy.sum(random_MU, axis=1)[:, None]\n",
        "# MU"
      ],
      "execution_count": 40,
      "outputs": []
    },
    {
      "cell_type": "code",
      "metadata": {
        "id": "Xtxaf3-uBca6"
      },
      "source": [
        "def prob_x_given_mu(x, mu):\n",
        "  temp = 1\n",
        "  for i in range(len(x)):\n",
        "    temp *= ((mu[i])**(x[i]))*((1-mu[i])**(1-x[i]))\n",
        "  # tried log\n",
        "  # for i in range(len(x)):\n",
        "  #   temp += x[i]*numpy.log(mu[i]) + (1-x[i])*numpy.log(1-mu[i])\n",
        "  return temp\n",
        "\n",
        "def posterior_z(x, MU, PI, i):\n",
        "  numerator = PI[i]*prob_x_given_mu(x, MU[i])\n",
        "  denominator = 0\n",
        "  for j in range(len(MU)):\n",
        "    denominator += PI[j]*prob_x_given_mu(x, MU[j])\n",
        "    # print(PI[j]*prob_x_given_mu(x, MU[j]))\n",
        "  # print(\"printed num\", numerator)\n",
        "  # print(\"printed denom\", denominator)\n",
        "  if numerator == 0:\n",
        "    return 0\n",
        "  else:\n",
        "    return numerator/denominator\n",
        "\n",
        "def complete_data_log_likelihood(X, MU, PI, Z):\n",
        "  temp = 0\n",
        "  for i in range(len(X)):\n",
        "    for j in range(len(MU)):\n",
        "      dim_sum = 0\n",
        "      for k in range(len(MU[j])):\n",
        "        dim_sum += (X[i][k]*numpy.log(MU[j][k])) + ((1-X[i][k])*numpy.log(1-MU[j][k]))\n",
        "      temp += Z[i][j]*(numpy.log(PI[j]) + dim_sum)\n",
        "  return temp\n",
        "\n",
        "def posterior_assignment(i, Z):\n",
        "  N_i = 0\n",
        "  for j in range(len(Z)):\n",
        "    N_i += Z[j][i]\n",
        "  # print(N_i)\n",
        "  return N_i\n",
        "\n",
        "def update_mu(X, MU, PI, i, Z):\n",
        "  mu_i = numpy.zeros(MU[i].shape[0],)\n",
        "  for j in range(len(X)):\n",
        "    mu_i += Z[j][i] * X[j]\n",
        "  return mu_i/posterior_assignment(i, Z)\n",
        "\n",
        "def update_pi(X, MU, PI, i, Z):\n",
        "  return posterior_assignment(i, Z)/Z.shape[0]"
      ],
      "execution_count": 41,
      "outputs": []
    },
    {
      "cell_type": "code",
      "metadata": {
        "id": "wBfzuNdYVVbw"
      },
      "source": [
        "Z = numpy.zeros((X.shape[0],MU.shape[0]))\n",
        "MU_updated = numpy.zeros((MU.shape[0], MU.shape[1]))\n",
        "PI_updated = numpy.zeros((PI.shape[0],))"
      ],
      "execution_count": 42,
      "outputs": []
    },
    {
      "cell_type": "code",
      "metadata": {
        "id": "IC2NWfk3phmF"
      },
      "source": [
        "len(X)\n",
        "likelihood = []"
      ],
      "execution_count": 43,
      "outputs": []
    },
    {
      "cell_type": "markdown",
      "metadata": {
        "id": "hpLS46ohTHRg"
      },
      "source": [
        "# EM Algorithm"
      ]
    },
    {
      "cell_type": "code",
      "metadata": {
        "id": "qVg7aiPjJMyZ",
        "colab": {
          "base_uri": "https://localhost:8080/"
        },
        "outputId": "4332b8a9-4bbc-4223-f109-d017c62a048f"
      },
      "source": [
        "for i in range(10):\n",
        "  # E step\n",
        "  # Calculate posterior\n",
        "  print(\"itr\",i)\n",
        "  for j in range(len(X)):\n",
        "    for k in range(len(MU)):\n",
        "        Z[j][k] = posterior_z(X[j], MU, PI, k)\n",
        "  # Calulate Log Likelihood\n",
        "  likelihood.append(complete_data_log_likelihood(X, MU, PI, Z))\n",
        "  # print(\"Complete Data Log Likelihood\", complete_data_log_likelihood(X, MU, PI, Z))\n",
        "  # M step\n",
        "  for k in range(len(MU)):\n",
        "    MU_updated[k] = update_mu(X, MU, PI, k, Z) + (numpy.ones((len(MU_updated[k]),))*1e-90)\n",
        "  for k in range(len(PI)):\n",
        "    PI_updated[k] = update_pi(X, MU, PI, k, Z)\n",
        "  MU = MU_updated\n",
        "  PI = PI_updated"
      ],
      "execution_count": 44,
      "outputs": [
        {
          "output_type": "stream",
          "text": [
            "itr 0\n",
            "itr 1\n",
            "itr 2\n",
            "itr 3\n",
            "itr 4\n",
            "itr 5\n",
            "itr 6\n",
            "itr 7\n",
            "itr 8\n",
            "itr 9\n"
          ],
          "name": "stdout"
        }
      ]
    },
    {
      "cell_type": "markdown",
      "metadata": {
        "id": "F_G8p-ML6amK"
      },
      "source": [
        "Plot for Likelihood vs iteartions"
      ]
    },
    {
      "cell_type": "code",
      "metadata": {
        "colab": {
          "base_uri": "https://localhost:8080/",
          "height": 279
        },
        "id": "6Yrbe6vAshfW",
        "outputId": "6f3209a2-9021-44dd-aec9-6a9a5a79c3aa"
      },
      "source": [
        "itr = numpy.arange(10)\n",
        "import matplotlib.pyplot as plt\n",
        "plt.plot(itr, likelihood)\n",
        "plt.xlabel('Iternations')\n",
        "plt.ylabel('Log Likelihood')\n",
        "plt.show()"
      ],
      "execution_count": 45,
      "outputs": [
        {
          "output_type": "display_data",
          "data": {
            "image/png": "[encoded data removed]",
            "text/plain": [
              "<Figure size 432x288 with 1 Axes>"
            ]
          },
          "metadata": {
            "tags": [],
            "needs_background": "light"
          }
        }
      ]
    },
    {
      "cell_type": "markdown",
      "metadata": {
        "id": "FFk68Y3S6fgV"
      },
      "source": [
        "Plotting images"
      ]
    },
    {
      "cell_type": "code",
      "metadata": {
        "colab": {
          "base_uri": "https://localhost:8080/",
          "height": 241
        },
        "id": "U6fksP7Alh7N",
        "outputId": "40425be2-107f-45f4-90fa-199e0ee8c5d6"
      },
      "source": [
        "fig,axs = plt.subplots(1,3, figsize=(10,3), constrained_layout=True)\n",
        "mu_images = (MU/numpy.max(MU, axis=1)[:, numpy.newaxis])*255\n",
        "mu_images = mu_images.reshape(3, 28, 28)\n",
        "fig.suptitle(\"Plots for mean values\")\n",
        "\n",
        "for i in range(3):\n",
        "  axs[i].imshow(mu_images[i])\n",
        "  axs[i].set_title(\"Cluster \" + str(i)  )\n",
        "plt.show()"
      ],
      "execution_count": 46,
      "outputs": [
        {
          "output_type": "display_data",
          "data": {
            "image/png": "[encoded data removed]",
            "text/plain": [
              "<Figure size 720x216 with 3 Axes>"
            ]
          },
          "metadata": {
            "tags": [],
            "needs_background": "light"
          }
        }
      ]
    },
    {
      "cell_type": "markdown",
      "metadata": {
        "id": "gAPhIDhUjGCo"
      },
      "source": [
        "# Kmeans Algorithm"
      ]
    },
    {
      "cell_type": "code",
      "metadata": {
        "id": "yWIELRwNL0Bh"
      },
      "source": [
        "X = numpy.where(examples_array > 0.5, 1, 0)\n",
        "# Randomized Means\n",
        "random_MU = 0.5*numpy.random.random((3,784)) + 0.25\n",
        "MU = random_MU/numpy.sum(random_MU, axis=1)[:, None]"
      ],
      "execution_count": 47,
      "outputs": []
    },
    {
      "cell_type": "code",
      "metadata": {
        "id": "8a5itThJlYak"
      },
      "source": [
        "def calculate_euclidean(x, MU):\n",
        "  distance = numpy.zeros((MU.shape[0],))\n",
        "  for i in range(len(MU)):\n",
        "    distance[i] = numpy.linalg.norm(x-MU[i])\n",
        "  return distance"
      ],
      "execution_count": 48,
      "outputs": []
    },
    {
      "cell_type": "code",
      "metadata": {
        "id": "rifetLXojw9H"
      },
      "source": [
        "Z = numpy.zeros((X.shape[0],))\n",
        "euc_dist = numpy.zeros((X.shape[0], MU.shape[0]))\n",
        "for i in range(10):\n",
        "  # calculating distance and find min\n",
        "  for j in range(len(X)):\n",
        "    euc_dist[j] = calculate_euclidean(X[j], MU)\n",
        "    Z[j] = numpy.argmin(euc_dist[j])\n",
        "  # recompute the mean\n",
        "  for j in range(len(MU)):\n",
        "    MU[j] = numpy.sum(X[Z==j], axis=0)/X[Z==j].shape[0]"
      ],
      "execution_count": 49,
      "outputs": []
    },
    {
      "cell_type": "markdown",
      "metadata": {
        "id": "i7jhIgDo6rBl"
      },
      "source": [
        "Plotting Images"
      ]
    },
    {
      "cell_type": "code",
      "metadata": {
        "colab": {
          "base_uri": "https://localhost:8080/",
          "height": 241
        },
        "id": "spK5RN7XJcXZ",
        "outputId": "1c02b05f-c2ba-43ce-915b-03ac3e1bc7c7"
      },
      "source": [
        "fig,axs = plt.subplots(1,3, figsize=(10,3), constrained_layout=True)\n",
        "mu_images = (MU/numpy.max(MU, axis=1)[:, numpy.newaxis])*255\n",
        "mu_images = mu_images.reshape(3, 28, 28)\n",
        "fig.suptitle(\"Plots for mean values\")\n",
        "\n",
        "for i in range(3):\n",
        "  axs[i].imshow(mu_images[i])\n",
        "  axs[i].set_title(\"Cluster \" + str(i) )\n",
        "plt.show()"
      ],
      "execution_count": 50,
      "outputs": [
        {
          "output_type": "display_data",
          "data": {
            "image/png": "[encoded data removed]",
            "text/plain": [
              "<Figure size 720x216 with 3 Axes>"
            ]
          },
          "metadata": {
            "tags": [],
            "needs_background": "light"
          }
        }
      ]
    },
    {
      "cell_type": "markdown",
      "metadata": {
        "id": "Z9LJFwmE6wYe"
      },
      "source": [
        "# Single Mutivariate Bernoulli"
      ]
    },
    {
      "cell_type": "code",
      "metadata": {
        "colab": {
          "base_uri": "https://localhost:8080/",
          "height": 258
        },
        "id": "HbpyCUYlOsHM",
        "outputId": "1220b7c7-22ce-46ff-8d45-bbaf95e84697"
      },
      "source": [
        "# Average of the pixels\n",
        "\n",
        "MU = numpy.sum(X, axis=0)/len(X)\n",
        "fig,axs = plt.subplots(1,1, figsize=(20,3), constrained_layout=True)\n",
        "mu_images = MU.reshape(28, 28)\n",
        "fig.suptitle(\"Plots for mean values\")\n",
        "\n",
        "axs.imshow(mu_images)\n",
        "axs.set_title(\"Cluster\")"
      ],
      "execution_count": 51,
      "outputs": [
        {
          "output_type": "execute_result",
          "data": {
            "text/plain": [
              "Text(0.5, 1.0, 'Cluster')"
            ]
          },
          "metadata": {
            "tags": []
          },
          "execution_count": 51
        },
        {
          "output_type": "display_data",
          "data": {
            "image/png": "[encoded data removed]",
            "text/plain": [
              "<Figure size 1440x216 with 1 Axes>"
            ]
          },
          "metadata": {
            "tags": [],
            "needs_background": "light"
          }
        }
      ]
    },
    {
      "cell_type": "markdown",
      "metadata": {
        "id": "qg8TZiI-62B5"
      },
      "source": [
        "# Gradient Descent"
      ]
    },
    {
      "cell_type": "code",
      "metadata": {
        "id": "5_oxPJ5rKIHZ"
      },
      "source": [
        "X = numpy.where(examples_array > 0.5, 1, 0)"
      ],
      "execution_count": 52,
      "outputs": []
    },
    {
      "cell_type": "code",
      "metadata": {
        "id": "XysLmFVg4U1F"
      },
      "source": [
        "# parameters\n",
        "\n",
        "PI = numpy.ones((3,))*0.33\n",
        "random_MU = 0.5*numpy.random.random((3,784)) + 0.25\n",
        "MU = random_MU/numpy.sum(random_MU, axis=1)[:, None]\n",
        "X = numpy.where(examples_array > 0.5, 1, 0)\n",
        "gamma = numpy.zeros((len(X), len(MU)))\n",
        "gradient_mu = numpy.zeros((len(MU), MU.shape[1]))\n",
        "gradient_lambda = numpy.zeros((len(MU),))\n",
        "# random means\n"
      ],
      "execution_count": 53,
      "outputs": []
    },
    {
      "cell_type": "code",
      "metadata": {
        "id": "gZSwvvG6zbVc"
      },
      "source": [
        "# Gradient descent for multivariate bernoulli\n",
        "\n",
        "def prob_x_given_mu(x, mu):\n",
        "  temp = 1\n",
        "  for i in range(len(x)):\n",
        "    temp *= ((mu[i])**(x[i]))*((1-mu[i])**(1-x[i]))\n",
        "  # tried log\n",
        "  # for i in range(len(x)):\n",
        "  #   temp += x[i]*numpy.log(mu[i]) + (1-x[i])*numpy.log(1-mu[i])\n",
        "  return temp\n",
        "\n",
        "def calculate_gamma(x, PI, MU, j):\n",
        "  numerator = PI[j]*prob_x_given_mu(x, MU[j])\n",
        "  denominator = 0\n",
        "  for j in range(len(MU)):\n",
        "    denominator += PI[j]*prob_x_given_mu(x, MU[j])\n",
        "    # print(PI[j]*prob_x_given_mu(x, MU[j]))\n",
        "  # print(\"printed num\", numerator)\n",
        "  # print(\"printed denom\", denominator)\n",
        "  if numerator == 0:\n",
        "    return 0\n",
        "  else:\n",
        "    return numerator/denominator\n",
        "\n",
        "def calculate_gradient_mu(X, MU, gamma, j, t):\n",
        "  numerator = 0\n",
        "  for i in range(len(X)):\n",
        "    numerator += gamma[i][j]*(X[i][t] + MU[j][t] - 2*X[i][t]*MU[j][t])\n",
        "  denominator = MU[j][t]*(1-MU[j][t])\n",
        "  return numerator/denominator\n",
        "\n",
        "def calculate_gradient_lambda(gamma, PI, j):\n",
        "  numerator = 0\n",
        "  for i in range(len(gamma)):\n",
        "    numerator += gamma[i][j]\n",
        "  denominator = PI[j]\n",
        "  return numerator/denominator\n",
        "\n",
        "def data_likelihood(X, MU, PI):\n",
        "  likelihood = 0\n",
        "  for i in range(len(X)):\n",
        "    temp = 0\n",
        "    for j in range(len(MU)):\n",
        "      temp += PI[j]*prob_x_given_mu(X[i], MU[j])\n",
        "    # print(\"temp\", temp)\n",
        "    if temp <= 0:\n",
        "      for j in range(len(MU)):\n",
        "        print(\"value for j={value}\".format(value =j), prob_x_given_mu(X[i], MU[j]))\n",
        "        # print(\"x\", X[i])\n",
        "        # print(\"mu\", MU[j])\n",
        "        print(PI[j]*prob_x_given_mu(X[i], MU[j]))\n",
        "    likelihood += numpy.log(temp)\n",
        "\n",
        "  return likelihood"
      ],
      "execution_count": 54,
      "outputs": []
    },
    {
      "cell_type": "code",
      "metadata": {
        "colab": {
          "base_uri": "https://localhost:8080/"
        },
        "id": "ct5ofPBZ4Pag",
        "outputId": "cec26cc7-22cd-4eee-9f1f-05fc0aff5f79"
      },
      "source": [
        "const = 0.0001\n",
        "for i in range(30):\n",
        "  # Calculate gamma\n",
        "  for i in range(len(X)):\n",
        "    for j in range(len(MU)):\n",
        "      gamma[i][j] = calculate_gamma(X[i], PI, MU, j)\n",
        "  # Calculate gradients\n",
        "  for j in range(len(MU)):\n",
        "    for t in range(MU.shape[1]):\n",
        "      gradient_mu[j][t] = calculate_gradient_mu(X, MU, gamma, j, t)\n",
        "    gradient_lambda[j] = calculate_gradient_lambda(gamma, PI, j)\n",
        "  # Adjust parametersoptimize.curve_fi\n",
        "  # Calculate gradients\n",
        "  for j in range(len(MU)):\n",
        "    for t in range(MU.shape[1]):\n",
        "      MU[j][t] = MU[j][t] + (const*gradient_mu[j][t])\n",
        "    PI[j] = PI[j] + (const*gradient_lambda[j])\n",
        "  likelihood_PI = PI\n",
        "  PI = likelihood_PI/numpy.sum(likelihood_PI)\n",
        "  # Scale to 0-1\n",
        "  print(PI)\n",
        "  for j in range(len(MU)):\n",
        "    MU[j] = (MU[j] - numpy.min(MU[j]))/(numpy.max(MU[j])-numpy.min(MU[j]))\n",
        "  MU = MU*0.5 + 0.25\n",
        "  # Data likelihood\n",
        "  print(\"data likelihood\", data_likelihood(X, MU, PI)) \n",
        "  "
      ],
      "execution_count": 55,
      "outputs": [
        {
          "output_type": "stream",
          "text": [
            "[0.3336524  0.33774134 0.32860627]\n",
            "data likelihood -200236.39145592123\n",
            "[0.33199504 0.35348923 0.31451573]\n",
            "data likelihood -200599.35108532954\n",
            "[0.33410288 0.36190714 0.30398998]\n",
            "data likelihood -200990.1239866724\n",
            "[0.33756368 0.36527433 0.29716198]\n",
            "data likelihood -201403.90509398686\n",
            "[0.34084633 0.36531875 0.29383492]\n",
            "data likelihood -201836.8052928697\n",
            "[0.3431861  0.36330417 0.29350974]\n",
            "data likelihood -202285.41632619468\n",
            "[0.34432066 0.36006497 0.29561438]\n",
            "data likelihood -202746.21864259712\n",
            "[0.34425422 0.35587729 0.29986849]\n",
            "data likelihood -203213.76908043202\n",
            "[0.34313131 0.35074764 0.30612105]\n",
            "data likelihood -203680.1714903598\n",
            "[0.34140904 0.34472923 0.31386173]\n",
            "data likelihood -204027.06024192038\n",
            "[0.34154422 0.33860077 0.31985501]\n",
            "data likelihood -204361.64049779868\n",
            "[0.34303156 0.33271567 0.32425277]\n",
            "data likelihood -204695.13801669702\n",
            "[0.34564236 0.32701587 0.32734176]\n",
            "data likelihood -205027.78331276614\n",
            "[0.34922265 0.32140352 0.32937384]\n",
            "data likelihood -205359.59949117847\n",
            "[0.353627   0.31577681 0.33059619]\n",
            "data likelihood -205690.6605280746\n",
            "[0.35866817 0.31008597 0.33124585]\n",
            "data likelihood -206021.40086586494\n",
            "[0.36413145 0.3043335  0.33153505]\n",
            "data likelihood -206352.57443625547\n",
            "[0.36981644 0.29853925 0.33164431]\n",
            "data likelihood -206685.11210142184\n",
            "[0.37553652 0.29273997 0.33172352]\n",
            "data likelihood -207002.2029671655\n",
            "[0.38158627 0.2867777  0.33163603]\n",
            "data likelihood -207294.64491980398\n",
            "[0.38821932 0.28054287 0.33123781]\n",
            "data likelihood -207580.65507484422\n",
            "[0.39503849 0.27425571 0.3307058 ]\n",
            "data likelihood -207860.48879109867\n",
            "[0.40180041 0.2680678  0.33013179]\n",
            "data likelihood -208134.56032374696\n",
            "[0.40838809 0.26205297 0.32955893]\n",
            "data likelihood -208403.47774475242\n",
            "[0.41477322 0.25621147 0.32901531]\n",
            "data likelihood -208577.94526640407\n",
            "[0.41853577 0.25404856 0.32741567]\n",
            "data likelihood -208720.0126635183\n",
            "[0.41993984 0.2550688  0.32499137]\n",
            "data likelihood -208839.78631314373\n",
            "[0.41956497 0.25837513 0.3220599 ]\n",
            "data likelihood -208939.53441692426\n",
            "[0.41787257 0.26332351 0.31880392]\n",
            "data likelihood -209021.671972917\n",
            "[0.41519116 0.26947764 0.3153312 ]\n",
            "data likelihood -209088.8376863973\n"
          ],
          "name": "stdout"
        }
      ]
    },
    {
      "cell_type": "code",
      "metadata": {
        "id": "2yqIcCn4Gr9B"
      },
      "source": [
        "# Scale to 0-1\n",
        "for j in range(len(MU)):\n",
        "  MU[j] = (MU[j] - numpy.min(MU[j]))/(numpy.max(MU[j])-numpy.min(MU[j]))"
      ],
      "execution_count": 56,
      "outputs": []
    },
    {
      "cell_type": "markdown",
      "metadata": {
        "id": "hUi7_Pe666sv"
      },
      "source": [
        "Plotting Images"
      ]
    },
    {
      "cell_type": "code",
      "metadata": {
        "colab": {
          "base_uri": "https://localhost:8080/",
          "height": 241
        },
        "id": "gwi5AIQ0_TV2",
        "outputId": "9e174029-0e00-4f1f-a62a-99b98ae9d8bb"
      },
      "source": [
        "fig,axs = plt.subplots(1,3, figsize=(20,3), constrained_layout=True)\n",
        "mu_images = (MU/numpy.max(MU, axis=1)[:, numpy.newaxis])*255\n",
        "mu_images = mu_images.reshape(3, 28, 28)\n",
        "fig.suptitle(\"Plots for mean values\")\n",
        "\n",
        "for i in range(3):\n",
        "  axs[i].imshow(mu_images[i])\n",
        "  axs[i].set_title(\"Cluster \" + str(i) )\n",
        "plt.show()"
      ],
      "execution_count": 57,
      "outputs": [
        {
          "output_type": "display_data",
          "data": {
            "image/png": "[encoded data removed]",
            "text/plain": [
              "<Figure size 1440x216 with 3 Axes>"
            ]
          },
          "metadata": {
            "tags": [],
            "needs_background": "light"
          }
        }
      ]
    },
    {
      "cell_type": "code",
      "metadata": {
        "colab": {
          "base_uri": "https://localhost:8080/"
        },
        "id": "jhNe-QdtAT37",
        "outputId": "fbe1a74a-10d0-48b6-a27c-8b2d92e8d19d"
      },
      "source": [
        "(MU/numpy.max(MU, axis=1)[:, numpy.newaxis])[0]*255"
      ],
      "execution_count": 58,
      "outputs": [
        {
          "output_type": "execute_result",
          "data": {
            "text/plain": [
              "array([8.00498103e-03, 2.21845036e-02, 5.13516420e-03, 1.58927981e-03,\n",
              "       1.46288301e-02, 2.21279589e-02, 2.37336692e-02, 7.96503604e-03,\n",
              "       7.12602005e-03, 1.85027205e-02, 1.50535635e-02, 1.90222534e-02,\n",
              "       4.36109553e-03, 1.08827122e-02, 1.78009364e-02, 1.58639577e-02,\n",
              "       1.59762655e-02, 4.88802616e-03, 2.17505235e-02, 8.73414504e-03,\n",
              "       1.38124692e-02, 3.36342153e-03, 5.77255582e-03, 2.10358686e-03,\n",
              "       2.10786958e-02, 1.67790041e-02, 5.13716715e-04, 1.00431847e-03,\n",
              "       2.29210982e-02, 2.11618156e-02, 2.07601099e-02, 1.87153734e-02,\n",
              "       2.06833967e-02, 2.26228069e-02, 1.12674791e-02, 1.14689122e-03,\n",
              "       2.16256937e-02, 1.92112695e-02, 1.47564832e-03, 1.01303775e-02,\n",
              "       2.99281910e-03, 1.41813847e-02, 2.35760550e-02, 1.50242894e-02,\n",
              "       5.65409752e-03, 5.18997813e-05, 8.30012757e-03, 2.40005172e-02,\n",
              "       1.95336371e-02, 1.01606597e-02, 1.25530167e-02, 1.85739973e-02,\n",
              "       1.36780222e-02, 1.25109252e-02, 2.45139731e-03, 2.80025280e-03,\n",
              "       3.18698848e-03, 9.93799615e-03, 9.58807581e-03, 2.32273558e-02,\n",
              "       1.06165279e-02, 1.76320597e-02, 2.40679205e-02, 1.65339244e-02,\n",
              "       1.17544893e-02, 2.11570045e+00, 1.32661695e+00, 1.32694829e+00,\n",
              "       1.34523482e+00, 1.75466284e-02, 3.17105512e-03, 1.25617184e+00,\n",
              "       2.10696827e-02, 2.55923411e-03, 1.11492892e-02, 1.78022074e-02,\n",
              "       1.97901279e-02, 5.40356578e-03, 9.06807964e-04, 1.80074391e-02,\n",
              "       7.19161253e-03, 2.33648954e-02, 1.56362959e-02, 1.77814123e-02,\n",
              "       5.97585685e-03, 2.05401702e-02, 8.24715527e-03, 1.94104402e-02,\n",
              "       9.81924212e-03, 6.68342928e-03, 7.70932851e-02, 1.17851991e+01,\n",
              "       1.17677697e+01, 1.89050912e+01, 2.55203239e+01, 2.90845728e+01,\n",
              "       2.92027190e+01, 2.28403849e+01, 1.48448581e+01, 1.15414868e+01,\n",
              "       1.05046964e+01, 8.88954879e+00, 2.63062573e+00, 1.11746063e+00,\n",
              "       8.00738942e-01, 8.26274600e-03, 6.11505068e-04, 2.31431867e-02,\n",
              "       1.76125390e-02, 5.03691768e-03, 5.61749008e-03, 2.77931033e-03,\n",
              "       1.61013429e-02, 1.77730791e-02, 0.00000000e+00, 1.86230081e-02,\n",
              "       2.96001194e-03, 1.02170775e+01, 1.88864244e+01, 3.50952230e+01,\n",
              "       5.94409864e+01, 8.96730308e+01, 8.57398615e+01, 9.97592620e+01,\n",
              "       1.04803100e+02, 9.95309491e+01, 9.03441480e+01, 8.37646024e+01,\n",
              "       5.95302797e+01, 4.32301495e+01, 3.31169223e+01, 1.50713264e+01,\n",
              "       7.07515565e+00, 2.31103293e+00, 1.89236667e+00, 3.58303051e+00,\n",
              "       3.88750271e-01, 4.97055045e-01, 2.67591119e-01, 1.81284293e-02,\n",
              "       2.16562338e-02, 2.17338445e-02, 4.02962051e-03, 1.71495851e-02,\n",
              "       6.86482958e+00, 3.26004528e+01, 5.75545433e+01, 8.12334089e+01,\n",
              "       1.05070241e+02, 1.24463950e+02, 1.21012234e+02, 1.24501673e+02,\n",
              "       1.24588457e+02, 1.38909640e+02, 1.26441785e+02, 1.29432629e+02,\n",
              "       1.20373864e+02, 1.03631693e+02, 1.08260856e+02, 5.21598407e+01,\n",
              "       3.48632769e+01, 2.03616727e+01, 8.49663768e+00, 5.50918380e+00,\n",
              "       1.30048731e+00, 2.35959079e-01, 7.26250364e-03, 6.45719907e-03,\n",
              "       1.26058527e-02, 9.39686265e-03, 2.00889562e-02, 2.71811760e+00,\n",
              "       2.40884134e+01, 5.59662190e+01, 7.96772426e+01, 1.01148153e+02,\n",
              "       1.16403134e+02, 1.23011242e+02, 1.26843861e+02, 1.26571034e+02,\n",
              "       1.26991940e+02, 1.26843044e+02, 1.28717704e+02, 1.26905075e+02,\n",
              "       1.41318950e+02, 1.34610736e+02, 1.17029795e+02, 1.03848981e+02,\n",
              "       5.08744235e+01, 2.34213264e+01, 1.47703620e+01, 6.20643253e+00,\n",
              "       8.15510316e-01, 1.27753301e-02, 2.79121451e-03, 1.70214116e-02,\n",
              "       2.39250014e-02, 2.16070842e-03, 2.12902231e-02, 5.24450970e+00,\n",
              "       3.09989238e+01, 5.28459830e+01, 8.74732816e+01, 1.05166760e+02,\n",
              "       1.13946481e+02, 1.25204639e+02, 1.20804639e+02, 1.33051698e+02,\n",
              "       1.27905054e+02, 1.27265319e+02, 1.25320657e+02, 1.25030982e+02,\n",
              "       1.26541055e+02, 1.30241875e+02, 1.24431701e+02, 1.01879344e+02,\n",
              "       6.08914719e+01, 2.38053567e+01, 2.18771031e+01, 4.73175021e+00,\n",
              "       1.73023638e-02, 1.58910302e+00, 1.74766494e-02, 1.07332112e-02,\n",
              "       2.31802934e-02, 4.15798419e-03, 5.30504905e-03, 8.54779824e+00,\n",
              "       2.75400149e+01, 4.89909675e+01, 8.30085769e+01, 9.47430207e+01,\n",
              "       1.01358696e+02, 1.09845454e+02, 1.03400769e+02, 9.91057051e+01,\n",
              "       9.93412599e+01, 9.83415578e+01, 1.07728914e+02, 1.23548661e+02,\n",
              "       1.30266703e+02, 1.29542676e+02, 1.35926839e+02, 1.32065505e+02,\n",
              "       7.62926609e+01, 3.30656320e+01, 1.71714639e+01, 2.46085655e+00,\n",
              "       2.14633714e-02, 5.90381294e-05, 2.40920765e-02, 2.28271544e-03,\n",
              "       9.54604144e-03, 2.11326446e-02, 2.26273596e-03, 2.71724023e+00,\n",
              "       1.57361552e+01, 3.92126476e+01, 6.29023473e+01, 8.23935107e+01,\n",
              "       8.36516437e+01, 8.55556802e+01, 8.97983685e+01, 8.21010727e+01,\n",
              "       7.89604044e+01, 9.57756752e+01, 1.01571519e+02, 1.14085664e+02,\n",
              "       1.41238780e+02, 1.31750052e+02, 1.26235460e+02, 1.27249910e+02,\n",
              "       6.92232350e+01, 2.21037665e+01, 9.19573687e+00, 3.86456799e+00,\n",
              "       1.22429765e-02, 8.05742925e-03, 1.02761105e-02, 1.25926836e-02,\n",
              "       4.91204848e-03, 4.20211871e-03, 2.24573659e-02, 2.73918908e+00,\n",
              "       1.32402302e+01, 2.81367282e+01, 4.26923805e+01, 6.38543985e+01,\n",
              "       6.40418019e+01, 8.51636737e+01, 6.99525069e+01, 7.31745240e+01,\n",
              "       8.33430871e+01, 8.88147431e+01, 1.01114187e+02, 1.20210400e+02,\n",
              "       1.33320236e+02, 1.37200730e+02, 1.46658179e+02, 1.07288510e+02,\n",
              "       5.36824103e+01, 1.98039871e+01, 3.02710233e+00, 1.15033206e+00,\n",
              "       6.67122832e-03, 1.72400563e-02, 1.13569819e-02, 4.19254962e-03,\n",
              "       2.06208280e-02, 7.25382966e-03, 3.15253576e-03, 4.82992198e+00,\n",
              "       1.15198053e+01, 2.01438295e+01, 3.73664891e+01, 6.06258522e+01,\n",
              "       6.04694784e+01, 8.46626982e+01, 8.45441503e+01, 8.24357711e+01,\n",
              "       1.00716311e+02, 1.06701457e+02, 1.17426234e+02, 1.29702208e+02,\n",
              "       1.34488231e+02, 1.39253133e+02, 1.33212838e+02, 8.00397775e+01,\n",
              "       4.37253341e+01, 1.51406899e+01, 7.41316078e+00, 3.73625773e-01,\n",
              "       2.89950748e-03, 1.45117454e-02, 1.43866460e-02, 1.76759149e-02,\n",
              "       1.68058651e-02, 2.18819770e-02, 2.35354246e-02, 2.17442269e+00,\n",
              "       6.76709557e+00, 1.64410108e+01, 3.28438352e+01, 4.95620657e+01,\n",
              "       7.01662058e+01, 8.15576474e+01, 9.26218166e+01, 1.13503591e+02,\n",
              "       1.15184950e+02, 1.26011715e+02, 1.23764994e+02, 1.25101298e+02,\n",
              "       1.29461724e+02, 1.29950232e+02, 1.14002441e+02, 9.07333957e+01,\n",
              "       4.15781698e+01, 1.77041444e+01, 6.50395043e+00, 2.82150189e+00,\n",
              "       3.77009847e-01, 1.21533196e-02, 2.29192225e-02, 2.25414291e-02,\n",
              "       1.96896751e-02, 1.70722263e-03, 7.38159283e-03, 2.18473878e+00,\n",
              "       6.28459595e+00, 1.03348142e+01, 3.45525774e+01, 5.50361669e+01,\n",
              "       7.89300109e+01, 9.75614977e+01, 1.25993662e+02, 1.20555542e+02,\n",
              "       1.24745209e+02, 1.35826369e+02, 1.24968138e+02, 1.26319397e+02,\n",
              "       1.55852303e+02, 1.27326619e+02, 1.19344152e+02, 8.93221307e+01,\n",
              "       4.92441109e+01, 2.52340500e+01, 9.23321970e+00, 5.14244814e+00,\n",
              "       3.03391990e+00, 2.71709676e+00, 7.88637204e-03, 5.61984295e-03,\n",
              "       1.68813844e-04, 2.36210902e-02, 2.25647100e-02, 2.74916411e-02,\n",
              "       5.60857159e+00, 1.80321024e+01, 2.96408158e+01, 7.39248653e+01,\n",
              "       9.26229910e+01, 1.14729608e+02, 1.47058823e+02, 1.23931794e+02,\n",
              "       1.25402069e+02, 1.27646247e+02, 1.29553818e+02, 1.28773144e+02,\n",
              "       1.27694927e+02, 1.38452410e+02, 1.55895408e+02, 1.09875172e+02,\n",
              "       7.65479554e+01, 4.66466917e+01, 2.05189374e+01, 1.10317659e+01,\n",
              "       5.77548671e+00, 4.61112698e+00, 1.76866531e+00, 4.89338567e-03,\n",
              "       4.03810975e-03, 6.29142737e-03, 2.29393170e-02, 1.23576490e+00,\n",
              "       3.92585619e+00, 1.52101900e+01, 2.54540625e+01, 5.45309652e+01,\n",
              "       8.18829716e+01, 1.11329353e+02, 1.18391142e+02, 2.55000000e+02,\n",
              "       1.29843176e+02, 1.28007200e+02, 1.65622261e+02, 1.30528476e+02,\n",
              "       1.29074232e+02, 1.51283473e+02, 1.33064494e+02, 1.12723090e+02,\n",
              "       9.41069342e+01, 6.58192108e+01, 4.69211420e+01, 2.08705928e+01,\n",
              "       8.68691429e+00, 1.06146670e+01, 6.28476111e+00, 7.24866720e-03,\n",
              "       1.41292347e-02, 1.63533274e-02, 7.36965787e-04, 1.01431879e+00,\n",
              "       1.12194668e+00, 1.55763866e+01, 2.67635551e+01, 4.67415425e+01,\n",
              "       7.42909363e+01, 1.16257457e+02, 1.32661812e+02, 1.22524891e+02,\n",
              "       1.15669770e+02, 1.41998676e+02, 1.46671309e+02, 1.40967734e+02,\n",
              "       1.32778136e+02, 2.26028325e+02, 1.34084954e+02, 1.18823308e+02,\n",
              "       1.01414340e+02, 7.43122519e+01, 4.97941023e+01, 2.76653634e+01,\n",
              "       1.88898119e+01, 1.75122270e+01, 5.72947305e+00, 1.24273961e-02,\n",
              "       8.94384810e-03, 1.02776133e-02, 1.46299586e-02, 2.54566893e-02,\n",
              "       1.30547027e+00, 6.67340422e+00, 2.69732381e+01, 4.44514660e+01,\n",
              "       7.26914139e+01, 9.04675812e+01, 9.73231116e+01, 1.18850991e+02,\n",
              "       1.16724777e+02, 1.24913886e+02, 1.52439125e+02, 1.87560157e+02,\n",
              "       1.28331116e+02, 1.25944632e+02, 1.66730203e+02, 1.17805651e+02,\n",
              "       1.03189705e+02, 8.52791435e+01, 6.25157269e+01, 4.33847527e+01,\n",
              "       2.75173295e+01, 1.08758369e+01, 4.81158512e-04, 1.50685609e-02,\n",
              "       9.93337324e-03, 5.20243232e-03, 1.14053534e-02, 9.68303740e-02,\n",
              "       2.46265856e+00, 1.34304657e+01, 3.08339723e+01, 6.23430323e+01,\n",
              "       7.65924875e+01, 8.95025150e+01, 9.25855504e+01, 9.85141748e+01,\n",
              "       9.45524219e+01, 1.02526257e+02, 1.07654146e+02, 1.72824113e+02,\n",
              "       1.33375735e+02, 1.24887901e+02, 1.23383067e+02, 1.15340808e+02,\n",
              "       1.11262480e+02, 9.11455645e+01, 7.56120640e+01, 5.32360415e+01,\n",
              "       3.36058059e+01, 9.59702318e+00, 1.14129098e-02, 1.86629214e-03,\n",
              "       1.64038510e-02, 2.24899452e-02, 3.00999949e+00, 8.91201298e-01,\n",
              "       4.00438824e+00, 1.70973874e+01, 4.07864991e+01, 7.53011100e+01,\n",
              "       8.68468341e+01, 1.01050134e+02, 9.79490213e+01, 9.73839779e+01,\n",
              "       9.50701485e+01, 9.78834089e+01, 1.06680500e+02, 1.12074034e+02,\n",
              "       1.26340379e+02, 1.30145095e+02, 1.34240351e+02, 1.23336439e+02,\n",
              "       1.07476167e+02, 9.37285763e+01, 6.93065272e+01, 4.75791010e+01,\n",
              "       1.67104992e+01, 6.17631871e+00, 6.70356987e-03, 3.28180337e-03,\n",
              "       5.25813667e-03, 2.68560542e+00, 3.05608998e+00, 1.20576361e+00,\n",
              "       6.83762346e+00, 1.85541860e+01, 4.79504753e+01, 7.38330284e+01,\n",
              "       8.31757693e+01, 1.04603308e+02, 1.06662691e+02, 1.17622025e+02,\n",
              "       1.08889194e+02, 1.25658811e+02, 1.39187183e+02, 1.24596733e+02,\n",
              "       1.24297347e+02, 1.25290145e+02, 1.25979716e+02, 1.21603790e+02,\n",
              "       1.05192700e+02, 8.15667252e+01, 6.13509319e+01, 3.72719316e+01,\n",
              "       2.05440853e+01, 6.03099472e+00, 2.29521487e+00, 7.53210993e-03,\n",
              "       2.21456691e-02, 2.34958621e+00, 4.05709058e+00, 4.93280315e+00,\n",
              "       7.26003729e+00, 2.91788033e+01, 4.71941804e+01, 7.44861443e+01,\n",
              "       1.03300194e+02, 1.06949485e+02, 1.12091948e+02, 1.25558594e+02,\n",
              "       1.19514585e+02, 1.21287942e+02, 1.23835210e+02, 1.26737849e+02,\n",
              "       1.38274940e+02, 1.30024675e+02, 1.26353833e+02, 1.14322816e+02,\n",
              "       9.97203267e+01, 7.85123337e+01, 6.10868849e+01, 3.75925952e+01,\n",
              "       2.03190257e+01, 4.96313044e+00, 2.27559166e+00, 1.75736269e-02,\n",
              "       1.19370030e-02, 1.74973877e-02, 2.93815050e+00, 6.18196970e+00,\n",
              "       1.28415148e+01, 1.95256884e+01, 4.06896098e+01, 8.22597845e+01,\n",
              "       1.01764449e+02, 1.13828298e+02, 1.36058561e+02, 1.23054834e+02,\n",
              "       1.26441352e+02, 1.25840476e+02, 1.33020236e+02, 1.37115764e+02,\n",
              "       1.38505064e+02, 1.23077762e+02, 1.14250454e+02, 1.05437386e+02,\n",
              "       8.67645592e+01, 6.77669193e+01, 4.27499936e+01, 2.78546213e+01,\n",
              "       1.20428066e+01, 3.77058128e-03, 1.61453600e-02, 1.62839912e-02,\n",
              "       1.43144011e-02, 2.19678178e-02, 2.42535380e-02, 2.97043227e+00,\n",
              "       7.67987502e+00, 1.88894845e+01, 3.01721185e+01, 6.12104459e+01,\n",
              "       9.09403068e+01, 1.23633786e+02, 1.16412519e+02, 1.23840753e+02,\n",
              "       1.44423928e+02, 1.24283810e+02, 1.22935648e+02, 1.28013509e+02,\n",
              "       1.19003310e+02, 1.18572800e+02, 8.59807721e+01, 6.63436888e+01,\n",
              "       5.12662890e+01, 3.76938800e+01, 1.67103032e+01, 8.73735410e+00,\n",
              "       2.72761735e+00, 3.71551323e-03, 1.99155983e-02, 1.81477267e-02,\n",
              "       3.25404196e-03, 1.21805864e-03, 1.29793053e-02, 2.65182086e-02,\n",
              "       3.29334492e+00, 6.28258044e+00, 1.79316869e+01, 3.62276458e+01,\n",
              "       5.87412858e+01, 8.48919597e+01, 9.95661073e+01, 9.75553632e+01,\n",
              "       9.94817574e+01, 1.01946904e+02, 9.74877840e+01, 8.74004943e+01,\n",
              "       9.49112899e+01, 7.44935677e+01, 4.17751754e+01, 2.90274221e+01,\n",
              "       1.75353327e+01, 1.45135319e+01, 6.20572215e+00, 1.01057782e-02,\n",
              "       1.84170495e-02, 1.14746475e-02, 2.37776664e-02, 1.88687470e-02,\n",
              "       1.74258625e-02, 8.07312773e-03, 1.85262203e-02, 1.93636687e-02,\n",
              "       1.97215511e-02, 3.43263541e+00, 4.12674427e+00, 1.03907234e+01,\n",
              "       1.26666396e+01, 1.58250796e+01, 2.48051927e+01, 1.89933141e+01,\n",
              "       3.03715335e+01, 2.61974095e+01, 3.36243082e+01, 2.12907574e+01,\n",
              "       2.22655812e+01, 2.00715463e+01, 1.38555473e+01, 6.74889665e+00,\n",
              "       1.41586489e+00, 1.41662915e+00, 1.40194400e+00, 1.47199881e-02,\n",
              "       5.08024948e-03, 8.21438363e-03, 1.80387159e-02, 1.49139048e-02,\n",
              "       2.02442500e-03, 2.22463596e-02, 1.65763411e-02, 1.72224851e-02,\n",
              "       1.27685988e-02, 1.66785984e-02, 2.25921034e-03, 9.59216035e-03,\n",
              "       2.02883387e-02, 1.96928963e-03, 1.50913380e-03, 4.87035212e-03,\n",
              "       1.74510444e-02, 7.51097731e-03, 8.87032739e-03, 5.81211492e-03,\n",
              "       1.28034250e-02, 1.27857933e-02, 9.50918595e-03, 4.79324363e-03,\n",
              "       2.78630407e-03, 1.91653490e-02, 1.86806345e-02, 6.70420482e-04,\n",
              "       2.28666969e-02, 1.50171395e-02, 2.55540478e-03, 2.35946318e-04,\n",
              "       1.76058065e-03, 2.14815023e-02, 6.20689562e-03, 1.28337104e-02,\n",
              "       1.11558956e-02, 2.31201863e-02, 2.26867611e-02, 1.73887082e-02,\n",
              "       7.85023767e-03, 5.84156791e-03, 8.36029121e-03, 2.07014839e-02,\n",
              "       1.19446860e-02, 3.06530205e-03, 2.10335411e-02, 5.73653124e-03,\n",
              "       6.86548001e-03, 1.93668613e-03, 1.10929562e-02, 1.06264535e-02,\n",
              "       7.76346667e-03, 1.73433735e-02, 9.41125972e-04, 2.09217391e-02,\n",
              "       2.01206018e-02, 2.33952185e-02, 8.57162911e-03, 1.26012674e-03])"
            ]
          },
          "metadata": {
            "tags": []
          },
          "execution_count": 58
        }
      ]
    }
  ]
}